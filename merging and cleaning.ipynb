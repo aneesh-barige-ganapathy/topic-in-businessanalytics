{
 "cells": [
  {
   "cell_type": "code",
   "execution_count": 13,
   "metadata": {},
   "outputs": [
    {
     "name": "stdout",
     "output_type": "stream",
     "text": [
      "Aggregated data saved as 'aggregated_food_production.csv'.\n",
      "All datasets merged and saved as 'merged_data_all.csv'.\n",
      "Cleaned dataset saved as 'cleaned_merged_data.csv'.\n"
     ]
    },
    {
     "name": "stderr",
     "output_type": "stream",
     "text": [
      "C:\\Users\\bgane\\AppData\\Local\\Temp\\ipykernel_95332\\2177728395.py:53: SettingWithCopyWarning: \n",
      "A value is trying to be set on a copy of a slice from a DataFrame\n",
      "\n",
      "See the caveats in the documentation: https://pandas.pydata.org/pandas-docs/stable/user_guide/indexing.html#returning-a-view-versus-a-copy\n",
      "  cleaned_data.drop_duplicates(inplace=True)\n",
      "C:\\Users\\bgane\\AppData\\Local\\Temp\\ipykernel_95332\\2177728395.py:56: SettingWithCopyWarning: \n",
      "A value is trying to be set on a copy of a slice from a DataFrame\n",
      "\n",
      "See the caveats in the documentation: https://pandas.pydata.org/pandas-docs/stable/user_guide/indexing.html#returning-a-view-versus-a-copy\n",
      "  cleaned_data.rename(\n"
     ]
    }
   ],
   "source": [
    "\n",
    "import pandas as pd\n",
    "\n",
    "food_production_data = pd.read_csv(r\"C:\\Users\\bgane\\Desktop\\TOPICS DATA\\data\\FOOD PRODUCTION DATA.csv\")\n",
    "\n",
    "# Standardize column names for consistency\n",
    "food_production_data.rename(columns={'Area': 'Country', 'Year': 'Year'}, inplace=True)\n",
    "\n",
    "aggregated_data = food_production_data.groupby(['Country', 'Year'])['Value'].sum().reset_index()\n",
    "\n",
    "# Rename the column for clarity\n",
    "aggregated_data.rename(columns={'Value': 'Total Production Value'}, inplace=True)\n",
    "\n",
    "# Save the aggregated data to a CSV file\n",
    "aggregated_data.to_csv(r\"C:\\Users\\bgane\\Desktop\\TOPICS DATA\\data\\aggregated_food_production.csv\", index=False)\n",
    "\n",
    "print(\"Aggregated data saved as 'aggregated_food_production.csv'.\")\n",
    "# Load the datasets\n",
    "food_production_data = pd.read_csv(r\"C:\\Users\\bgane\\Desktop\\TOPICS DATA\\data\\aggregated_food_production.csv\")\n",
    "obese_bmi_data = pd.read_csv(r\"C:\\Users\\bgane\\Desktop\\TOPICS DATA\\data\\obese bmi data.csv\")\n",
    "food_supply_data = pd.read_csv(r\"C:\\Users\\bgane\\Desktop\\TOPICS DATA\\data\\food supply.csv\")\n",
    "\n",
    "# Standardize column names for merging\n",
    "food_production_data.rename(columns={'Country': 'Country', 'Year': 'Year'}, inplace=True)\n",
    "obese_bmi_data.rename(columns={'Location': 'Country', 'Period': 'Year'}, inplace=True)\n",
    "food_supply_data.rename(columns={'Area': 'Country', 'Year': 'Year'}, inplace=True)\n",
    "\n",
    "# Select relevant columns\n",
    "food_production_subset = food_production_data[['Country', 'Year', 'Total Production Value']].copy()\n",
    "obese_bmi_subset = obese_bmi_data[['Country', 'Year', 'FactValueNumeric']].copy()\n",
    "food_supply_subset = food_supply_data[['Country','Year', 'Value' ]].copy()\n",
    "\n",
    "# Rename value columns for distinction\n",
    "obese_bmi_subset.rename(columns={'Value': 'BMI Value'}, inplace=True)\n",
    "food_supply_subset.rename(columns={'Value': 'Supply Value'}, inplace=True)\n",
    "\n",
    "# Merge the datasets\n",
    "merged_data = pd.merge(food_production_subset, obese_bmi_subset, on=[\"Country\", \"Year\"], how=\"outer\")\n",
    "merged_data_all = pd.merge(merged_data, food_supply_subset, on=[\"Country\",\"Year\"], how=\"outer\")\n",
    "\n",
    "# Save the merged dataset to a CSV file\n",
    "merged_data_all.to_csv(r\"C:\\Users\\bgane\\Desktop\\TOPICS DATA\\data\\merged_data_all.csv\", index=False)\n",
    "\n",
    "print(\"All datasets merged and saved as 'merged_data_all.csv'.\")\n",
    "# Load the dataset\n",
    "merged_data = pd.read_csv(r\"C:\\Users\\bgane\\Desktop\\TOPICS DATA\\data\\merged_data_all.csv\")\n",
    "\n",
    "\n",
    "\n",
    "# Remove rows with excessive null values\n",
    "cleaned_data = merged_data.dropna(thresh=4)  # Keep rows with at least 4 non-NaN values\n",
    "\n",
    "# Remove duplicate rows if any\n",
    "cleaned_data.drop_duplicates(inplace=True)\n",
    "\n",
    "# Rename columns for consistency\n",
    "cleaned_data.rename(\n",
    "    columns={\n",
    "        'FactValueNumeric': 'BMI Value',\n",
    "        'Supply Value': 'Food Supply Value',\n",
    "        'Production Value': 'Food Production Value'\n",
    "    },\n",
    "    inplace=True\n",
    ")\n",
    "\n",
    "cleaned_data.to_csv(r\"C:\\Users\\bgane\\Desktop\\TOPICS DATA\\data\\cleaned_merged_data.csv\", index=False)\n",
    "\n",
    "print(\"Cleaned dataset saved as 'cleaned_merged_data.csv'.\")"
   ]
  }
 ],
 "metadata": {
  "kernelspec": {
   "display_name": "base",
   "language": "python",
   "name": "python3"
  },
  "language_info": {
   "codemirror_mode": {
    "name": "ipython",
    "version": 3
   },
   "file_extension": ".py",
   "mimetype": "text/x-python",
   "name": "python",
   "nbconvert_exporter": "python",
   "pygments_lexer": "ipython3",
   "version": "3.12.4"
  }
 },
 "nbformat": 4,
 "nbformat_minor": 2
}
